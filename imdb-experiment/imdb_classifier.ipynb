{
 "cells": [
  {
   "cell_type": "markdown",
   "metadata": {},
   "source": [
    "## IMDB predictor supported by MLFlow \n",
    "\n",
    "This notebook is demonstration whot to use MLFlow to track experiments, store artifacts and use stored data using Tensorbord\n",
    "\n",
    "http://188.246.227.23:5000/#/models\n",
    "\n",
    "Make sure you have configured environment variables: \n",
    "\n",
    "* `MLFLOW_HOST` should point to MLFLOW ui \n",
    "* `MLFLOW_S3_ENDPOINT_URL` should point to S3 endpoint (if it is not s3)"
   ]
  },
  {
   "cell_type": "code",
   "execution_count": 1,
   "metadata": {},
   "outputs": [],
   "source": [
    "import numpy as np\n",
    "from tensorflow import keras\n",
    "from tensorflow.keras import layers\n",
    "\n",
    "from sklearn.base import ClassifierMixin\n",
    "\n",
    "class IMDBPredictor(ClassifierMixin):\n",
    "    def __init__(self, model):\n",
    "        self.model = model\n",
    "        \n",
    "    def predict(self, X):\n",
    "        y_pred = self.model.predict(X)\n",
    "        y_pred = ((y_pred + 0.5)//1).astype('int64')\n",
    "        return y_pred\n",
    "\n",
    "def create_model(max_features, maxlen):\n",
    "    # Input for variable-length sequences of integers\n",
    "    inputs = keras.Input(shape=(None,), dtype=\"int32\")\n",
    "    # Embed each integer in a 128-dimensional vector\n",
    "    x = layers.Embedding(max_features, 128)(inputs)\n",
    "    # Add 2 bidirectional LSTMs\n",
    "    x = layers.Bidirectional(layers.GRU(64, return_sequences=True))(x)\n",
    "    x = layers.Bidirectional(layers.GRU(64))(x)\n",
    "    # Add a classifier\n",
    "    outputs = layers.Dense(1, activation=\"sigmoid\")(x)\n",
    "    model = keras.Model(inputs, outputs)\n",
    "    return model"
   ]
  },
  {
   "cell_type": "markdown",
   "metadata": {},
   "source": [
    "## Prepare train-val data"
   ]
  },
  {
   "cell_type": "code",
   "execution_count": 2,
   "metadata": {},
   "outputs": [
    {
     "name": "stderr",
     "output_type": "stream",
     "text": [
      "D:\\Soft\\Anaconda\\envs\\aiprocess\\lib\\site-packages\\tensorflow\\python\\keras\\datasets\\imdb.py:155: VisibleDeprecationWarning: Creating an ndarray from ragged nested sequences (which is a list-or-tuple of lists-or-tuples-or ndarrays with different lengths or shapes) is deprecated. If you meant to do this, you must specify 'dtype=object' when creating the ndarray\n",
      "  x_train, y_train = np.array(xs[:idx]), np.array(labels[:idx])\n",
      "D:\\Soft\\Anaconda\\envs\\aiprocess\\lib\\site-packages\\tensorflow\\python\\keras\\datasets\\imdb.py:156: VisibleDeprecationWarning: Creating an ndarray from ragged nested sequences (which is a list-or-tuple of lists-or-tuples-or ndarrays with different lengths or shapes) is deprecated. If you meant to do this, you must specify 'dtype=object' when creating the ndarray\n",
      "  x_test, y_test = np.array(xs[idx:]), np.array(labels[idx:])\n"
     ]
    },
    {
     "name": "stdout",
     "output_type": "stream",
     "text": [
      "25000 Training sequences\n",
      "25000 Validation sequences\n"
     ]
    }
   ],
   "source": [
    " # Only consider the top 20k words\n",
    "max_features = 20000\n",
    "# Only consider the first 200 words of each movie review\n",
    "maxlen = 200  \n",
    "\n",
    "(x_train, y_train), (x_val, y_val) = keras.datasets.imdb.load_data(num_words=max_features)\n",
    "\n",
    "print(len(x_train), \"Training sequences\")\n",
    "print(len(x_val), \"Validation sequences\")\n",
    "x_train = keras.preprocessing.sequence.pad_sequences(x_train, maxlen=maxlen)\n",
    "x_val = keras.preprocessing.sequence.pad_sequences(x_val, maxlen=maxlen)"
   ]
  },
  {
   "cell_type": "markdown",
   "metadata": {},
   "source": [
    "## Run experiment"
   ]
  },
  {
   "cell_type": "code",
   "execution_count": 3,
   "metadata": {},
   "outputs": [],
   "source": [
    "import mlflow, os\n",
    "import mlflow.tensorflow\n",
    "from sklearn.metrics import confusion_matrix\n",
    "from sklearn.metrics import plot_confusion_matrix"
   ]
  },
  {
   "cell_type": "code",
   "execution_count": 4,
   "metadata": {},
   "outputs": [
    {
     "name": "stdout",
     "output_type": "stream",
     "text": [
      "Active experiment_id: 1\n"
     ]
    }
   ],
   "source": [
    "EXPERIMENT_NAME = '/prjx/imdb'\n",
    "mlflow.set_tracking_uri(os.environ[\"MLFLOW_HOST\"])\n",
    "experiment = mlflow.get_experiment_by_name(EXPERIMENT_NAME)\n",
    "if experiment:\n",
    "    experiment_id = experiment.experiment_id\n",
    "else:\n",
    "    # Possible to set up own s3 bucket artifact_location\n",
    "    experiment_id = mlflow.create_experiment(name=EXPERIMENT_NAME)\n",
    "print(f'Active experiment_id: {experiment_id}')"
   ]
  },
  {
   "cell_type": "code",
   "execution_count": 5,
   "metadata": {},
   "outputs": [
    {
     "name": "stderr",
     "output_type": "stream",
     "text": [
      "D:\\Soft\\Anaconda\\envs\\aiprocess\\lib\\site-packages\\tensorflow\\python\\keras\\layers\\recurrent.py:820: DeprecationWarning: Using or importing the ABCs from 'collections' instead of from 'collections.abc' is deprecated since Python 3.3,and in 3.9 it will stop working\n",
      "  if (isinstance(inputs, collections.Sequence)\n",
      "D:\\Soft\\Anaconda\\envs\\aiprocess\\lib\\site-packages\\tensorflow\\python\\framework\\tensor_util.py:523: DeprecationWarning: tostring() is deprecated. Use tobytes() instead.\n",
      "  tensor_proto.tensor_content = nparray.tostring()\n"
     ]
    },
    {
     "name": "stdout",
     "output_type": "stream",
     "text": [
      "Epoch 1/3\n"
     ]
    },
    {
     "name": "stderr",
     "output_type": "stream",
     "text": [
      "D:\\Soft\\Anaconda\\envs\\aiprocess\\lib\\site-packages\\tensorflow\\python\\training\\tracking\\data_structures.py:718: DeprecationWarning: Using or importing the ABCs from 'collections' instead of from 'collections.abc' is deprecated since Python 3.3,and in 3.9 it will stop working\n",
      "  if not isinstance(wrapped_dict, collections.Mapping):\n"
     ]
    },
    {
     "name": "stdout",
     "output_type": "stream",
     "text": [
      "782/782 [==============================] - 298s 381ms/step - loss: 0.3917 - accuracy: 0.8192 - val_loss: 0.3455 - val_accuracy: 0.8548\n",
      "Epoch 2/3\n",
      "782/782 [==============================] - 282s 361ms/step - loss: 0.1905 - accuracy: 0.9283 - val_loss: 0.3163 - val_accuracy: 0.8773\n",
      "Epoch 3/3\n",
      "782/782 [==============================] - 301s 385ms/step - loss: 0.0965 - accuracy: 0.9653 - val_loss: 0.3851 - val_accuracy: 0.8697\n"
     ]
    },
    {
     "name": "stderr",
     "output_type": "stream",
     "text": [
      "D:\\Soft\\Anaconda\\envs\\aiprocess\\lib\\site-packages\\tensorflow\\python\\framework\\tensor_util.py:523: DeprecationWarning: tostring() is deprecated. Use tobytes() instead.\n",
      "  tensor_proto.tensor_content = nparray.tostring()\n"
     ]
    },
    {
     "name": "stdout",
     "output_type": "stream",
     "text": [
      "<Experiment: artifact_location='s3://mlflow/artefacts/1', experiment_id='1', lifecycle_stage='active', name='/prjx/imdb', tags={}>\n"
     ]
    },
    {
     "data": {
      "image/png": "[encoded data removed]",
      "text/plain": [
       "<Figure size 432x288 with 2 Axes>"
      ]
     },
     "metadata": {
      "needs_background": "light"
     },
     "output_type": "display_data"
    }
   ],
   "source": [
    "with mlflow.start_run(experiment_id=experiment_id):\n",
    "    model = create_model(max_features=max_features, maxlen=maxlen)\n",
    "    model.compile(\"adam\", \"binary_crossentropy\", metrics=[\"accuracy\"])\n",
    "    mlflow.tensorflow.autolog()\n",
    "    model.fit(x_train, y_train, batch_size=32, epochs=3, validation_data=(x_val, y_val))\n",
    "    \n",
    "    # Log a parameter (key-value pair)\n",
    "    mlflow.log_param(\"data_version\", 'v2')\n",
    "    \n",
    "    \n",
    "    # Log a metric; metrics can be updated throughout the run\n",
    "    # mlflow.log_metric(\"foo\", 3, step=1)\n",
    "    \n",
    "    # Log confusion matrix \n",
    "    predictor = IMDBPredictor(model)\n",
    "    \n",
    "    import matplotlib.pyplot as plt \n",
    "    plot_confusion_matrix(predictor, x_val, y_val,\n",
    "                      display_labels=['negative', 'positive'],\n",
    "                      cmap=plt.cm.Blues,\n",
    "                      normalize=None)\n",
    "    plt.savefig('confusion_matrix.png')\n",
    "    mlflow.log_artifact('confusion_matrix.png')\n",
    "    \n",
    "    # Show experiment metadata\n",
    "    experiment = mlflow.get_experiment(experiment_id)\n",
    "    print(experiment)"
   ]
  },
  {
   "cell_type": "markdown",
   "metadata": {},
   "source": [
    "## Tensorboard\n",
    "\n",
    "Run tensorboard instance \n",
    "\n",
    "```\n",
    "tensorboard --logdir s3://mlflow/artefacts/0/70251c20a0a74b63af9cddcefe7d5313/artifacts/tensorboard_logs\n",
    "```\n",
    "\n",
    "And go to \n",
    "http://localhost:6006/ "
   ]
  },
  {
   "cell_type": "code",
   "execution_count": 6,
   "metadata": {},
   "outputs": [
    {
     "name": "stdout",
     "output_type": "stream",
     "text": [
      "Known TensorBoard instances:\n",
      "  - port 6006: logdir logs (started 22:51:31 ago; pid 16464)\n",
      "  - port 6006: logdir logs (started 20:56:49 ago; pid 20284)\n",
      "  - port 6006: logdir s3://mlflow/artefacts/10/266992f3039d4bfcad9aff05695994c3/artifacts/tensorboard_logs (started 22:50:23 ago; pid 9644)\n"
     ]
    }
   ],
   "source": [
    "from tensorboard import notebook\n",
    "notebook.list() # View open TensorBoard instances\n",
    "\n",
    "tensorboard --logdir s3://mlflow/artefacts/1/cc618c80d17f47c29c48c379c1c5d457/artifacts/tensorboard_logs"
   ]
  },
  {
   "cell_type": "code",
   "execution_count": 10,
   "metadata": {},
   "outputs": [
    {
     "name": "stdout",
     "output_type": "stream",
     "text": [
      "Selecting TensorBoard with logdir logs (started 1 day, 18:03:18 ago; port 6006, pid 20284).\n"
     ]
    },
    {
     "data": {
      "text/html": [
       "\n",
       "      <iframe id=\"tensorboard-frame-555ca5cbbfdfc7d5\" width=\"100%\" height=\"1000\" frameborder=\"0\">\n",
       "      </iframe>\n",
       "      <script>\n",
       "        (function() {\n",
       "          const frame = document.getElementById(\"tensorboard-frame-555ca5cbbfdfc7d5\");\n",
       "          const url = new URL(\"/\", window.location);\n",
       "          url.port = 6006;\n",
       "          frame.src = url;\n",
       "        })();\n",
       "      </script>\n",
       "  "
      ],
      "text/plain": [
       "<IPython.core.display.HTML object>"
      ]
     },
     "metadata": {},
     "output_type": "display_data"
    }
   ],
   "source": [
    "from tensorboard import notebook\n",
    "notebook.display(port=6006, height=1000)"
   ]
  },
  {
   "cell_type": "code",
   "execution_count": null,
   "metadata": {},
   "outputs": [],
   "source": []
  }
 ],
 "metadata": {
  "kernelspec": {
   "display_name": "Python 3",
   "language": "python",
   "name": "python3"
  },
  "language_info": {
   "codemirror_mode": {
    "name": "ipython",
    "version": 3
   },
   "file_extension": ".py",
   "mimetype": "text/x-python",
   "name": "python",
   "nbconvert_exporter": "python",
   "pygments_lexer": "ipython3",
   "version": "3.7.6"
  }
 },
 "nbformat": 4,
 "nbformat_minor": 4
}
