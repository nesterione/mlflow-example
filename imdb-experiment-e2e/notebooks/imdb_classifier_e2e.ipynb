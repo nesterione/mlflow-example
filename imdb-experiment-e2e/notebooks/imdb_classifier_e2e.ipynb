{
 "cells": [
  {
   "cell_type": "markdown",
   "metadata": {},
   "source": [
    "## IMDB predictor supported by MLFlow \n",
    "\n",
    "This notebook is demonstration whot to use MLFlow to track experiments, store artifacts and use stored data using Tensorbord\n",
    "\n",
    "http://188.246.227.23:5000/#/models\n",
    "\n",
    "Make sure you have configured environment variables: \n",
    "\n",
    "* `MLFLOW_TRACKING_URI` should point to MLFLOW ui \n",
    "* `MLFLOW_S3_ENDPOINT_URL` should point to S3 endpoint (if it is not s3)\n",
    "\n",
    "You can use `mlflow.set_tracking_uri(os.environ[\"MLFLOW_TRACKING_URI\"])` to configure mlflow uri explicitly "
   ]
  },
  {
   "cell_type": "code",
   "execution_count": 1,
   "metadata": {},
   "outputs": [
    {
     "name": "stdout",
     "output_type": "stream",
     "text": [
      "Training data: ../data/prep, md5 hash: bae676a21d9f12c2af6bd9cbec43de3a\n"
     ]
    }
   ],
   "source": [
    "# Params\n",
    "import os\n",
    "from checksumdir import dirhash\n",
    "DATA_SOURCE = os.environ.get('IMDB_DATA_SOURCE', '../data/prep')\n",
    "PROJECT_NAME = '/mlflow/imdb'\n",
    "\n",
    " # Only consider the top 20k words\n",
    "MAX_FEATURES = 20000\n",
    "# Only consider the first 200 words of each movie review\n",
    "MAXLEN = 200\n",
    "TRAIN_MD5 = dirhash(DATA_SOURCE, 'md5')\n",
    "print(f'Training data: {DATA_SOURCE}, md5 hash: {TRAIN_MD5}')"
   ]
  },
  {
   "cell_type": "markdown",
   "metadata": {},
   "source": [
    "## Load data and train/test split"
   ]
  },
  {
   "cell_type": "code",
   "execution_count": 2,
   "metadata": {},
   "outputs": [
    {
     "name": "stdout",
     "output_type": "stream",
     "text": [
      "16750 Training samples\n",
      "8250 Validation samples\n"
     ]
    }
   ],
   "source": [
    "import pandas as pd\n",
    "import string\n",
    "\n",
    "def remove_punctuation(s):\n",
    "    return s.translate(str.maketrans('', '', string.punctuation))\n",
    "\n",
    "def normalize(s):\n",
    "    return s.lower()\n",
    "\n",
    "def prep_pipeline(s):    \n",
    "    s = remove_punctuation(s)\n",
    "    s = normalize(s)\n",
    "    return s\n",
    "\n",
    "assert prep_pipeline('AFD sf.s dfsdf;') == 'afd sfs dfsdf'\n",
    "\n",
    "data_df = pd.read_csv(os.path.join(DATA_SOURCE, 'train.csv'), index_col='Id')\n",
    "data_df.Review = data_df.Review.apply(prep_pipeline)\n",
    "data_df.Expected = data_df.Expected.apply(lambda x: int(x=='pos'))\n",
    "\n",
    "from sklearn.model_selection import train_test_split\n",
    "x_train_text, x_val_text, y_train, y_val = train_test_split(data_df.Review, \n",
    "                                                            data_df.Expected, \n",
    "                                                            test_size=0.33, \n",
    "                                                            random_state=42, \n",
    "                                                            stratify=data_df.Expected)\n",
    "\n",
    "# TODO: add test set \n",
    "#test_df = pd.read_csv('../data/prep/test.csv')\n",
    "\n",
    "print(f'{len(x_train_text)} Training samples')\n",
    "print(f'{len(x_val_text)} Validation samples')"
   ]
  },
  {
   "cell_type": "markdown",
   "metadata": {},
   "source": [
    "## Tokenize"
   ]
  },
  {
   "cell_type": "code",
   "execution_count": 3,
   "metadata": {},
   "outputs": [],
   "source": [
    "from tensorflow import keras\n",
    "tokenizer = keras.preprocessing.text.Tokenizer(num_words=MAX_FEATURES, filters='', lower=False, split=' ')\n",
    "tokenizer.fit_on_texts(x_train_text)\n",
    "\n",
    "x_train_sequence = tokenizer.texts_to_sequences(x_train_text)\n",
    "x_train = keras.preprocessing.sequence.pad_sequences(x_train_sequence, maxlen=MAXLEN)\n",
    "\n",
    "x_val_sequence = tokenizer.texts_to_sequences(x_val_text)\n",
    "x_val = keras.preprocessing.sequence.pad_sequences(x_val_sequence, maxlen=MAXLEN)"
   ]
  },
  {
   "cell_type": "markdown",
   "metadata": {},
   "source": [
    "## Build machine learning model"
   ]
  },
  {
   "cell_type": "code",
   "execution_count": 4,
   "metadata": {},
   "outputs": [],
   "source": [
    "import numpy as np\n",
    "from tensorflow.keras import layers\n",
    "\n",
    "def create_model(max_features, maxlen):\n",
    "    # Input for variable-length sequences of integers\n",
    "    inputs = keras.Input(shape=(None,), dtype=\"int32\")\n",
    "    # Embed each integer in a 128-dimensional vector\n",
    "    x = layers.Embedding(max_features, 128)(inputs)\n",
    "    # Add 2 bidirectional LSTMs\n",
    "    x = layers.Bidirectional(layers.GRU(64, return_sequences=True))(x)\n",
    "    x = layers.Bidirectional(layers.GRU(64))(x)\n",
    "    # Add a classifier\n",
    "    outputs = layers.Dense(1, activation=\"sigmoid\")(x)\n",
    "    model = keras.Model(inputs, outputs)\n",
    "    return model"
   ]
  },
  {
   "cell_type": "code",
   "execution_count": 21,
   "metadata": {},
   "outputs": [],
   "source": [
    "import tempfile\n",
    "import mlflow\n",
    "import mlflow.pyfunc\n",
    "import tensorflow as tf\n",
    "\n",
    "def log_model(artifact_path, python_model, tf_model):\n",
    "\n",
    "    from platform import python_version\n",
    "    import cloudpickle\n",
    "    \n",
    "    conda_env = {\n",
    "        'channels': ['defaults', 'conda-forge'],\n",
    "        'dependencies': [\n",
    "            f'python={python_version()}',\n",
    "            'pip', \n",
    "            {\n",
    "                'pip': [\n",
    "                    f'tensorflow=={tf.__version__}',\n",
    "                    f'cloudpickle=={cloudpickle.__version__}'\n",
    "                ]\n",
    "            }\n",
    "        ],\n",
    "        'name': 'imdb_env'\n",
    "    }\n",
    "\n",
    "    tf_model_path = 'model.h5'\n",
    "    tf_model.save(tf_model_path)\n",
    "\n",
    "    artifacts = {\n",
    "        'tf_model': tf_model_path\n",
    "    }\n",
    "\n",
    "    mlflow.pyfunc.log_model(artifact_path=artifact_path, \n",
    "                         python_model=python_model, \n",
    "                         artifacts=artifacts, \n",
    "                         conda_env=conda_env)\n",
    "\n",
    "class ImdbModel(mlflow.pyfunc.PythonModel):\n",
    "    def __init__(self, prep_pipeline, tokenizer, maxlen, threshold):\n",
    "        # You can pass pipelines using constructor, they will be serialized\n",
    "        self.prep_pipeline = prep_pipeline\n",
    "        self.tokenizer = tokenizer\n",
    "        self.maxlen = maxlen\n",
    "        self.threshold = threshold\n",
    "    \n",
    "    def load_context(self, context):\n",
    "        from tensorflow import keras\n",
    "        self.tf_model = keras.models.load_model(context.artifacts['tf_model'])\n",
    "        \n",
    "    def predict(self, context, model_input):\n",
    "        model_input.Review = model_input.Review.apply(self.prep_pipeline)\n",
    "        x = self.tokenizer.texts_to_sequences(model_input.Review)\n",
    "        x = keras.preprocessing.sequence.pad_sequences(x, maxlen=self.maxlen)\n",
    "        y_pred = self.tf_model.predict(x)\n",
    "        y_pred = ((y_pred + self.threshold)//1).astype('int64')\n",
    "        return y_pred\n",
    "\n",
    "\n",
    "\n",
    "import numpy as np\n",
    "import matplotlib\n",
    "from sklearn.metrics import confusion_matrix\n",
    "\n",
    "def plot_confusion_matrix(y_true, y_pred, labels, title='Confusion_matrix', normalize=None):\n",
    "    x_labels, y_lables = labels, labels\n",
    "    \n",
    "    mx = confusion_matrix(y_true, y_pred, normalize=normalize)\n",
    "\n",
    "    fig, ax = plt.subplots()\n",
    "    im = ax.imshow(mx)\n",
    "\n",
    "    # We want to show all ticks...\n",
    "    ax.set_xticks(np.arange(len(x_labels)))\n",
    "    ax.set_yticks(np.arange(len(y_lables)))\n",
    "    # ... and label them with the respective list entries\n",
    "    ax.set_xticklabels(x_labels)\n",
    "    ax.set_yticklabels(y_lables)\n",
    "\n",
    "    # Rotate the tick labels and set their alignment.\n",
    "    plt.setp(ax.get_xticklabels(), rotation=45, ha=\"right\", rotation_mode=\"anchor\")\n",
    "\n",
    "    # Loop over data dimensions and create text annotations.\n",
    "    for i in range(len(x_labels)):\n",
    "        for j in range(len(y_lables)):\n",
    "            text = ax.text(j, i, mx[i, j], ha=\"center\", va=\"center\", color=\"w\")\n",
    "\n",
    "    ax.set_title(title)\n",
    "    fig.tight_layout()"
   ]
  },
  {
   "cell_type": "markdown",
   "metadata": {},
   "source": [
    "## Run experiment (MLFlow here)"
   ]
  },
  {
   "cell_type": "code",
   "execution_count": 15,
   "metadata": {},
   "outputs": [],
   "source": [
    "import mlflow, os\n",
    "import mlflow.tensorflow\n",
    "from sklearn.metrics import confusion_matrix"
   ]
  },
  {
   "cell_type": "code",
   "execution_count": 7,
   "metadata": {},
   "outputs": [
    {
     "name": "stdout",
     "output_type": "stream",
     "text": [
      "Active experiment_id: 3\n"
     ]
    }
   ],
   "source": [
    "experiment = mlflow.get_experiment_by_name(PROJECT_NAME)\n",
    "if experiment:\n",
    "    experiment_id = experiment.experiment_id\n",
    "else:\n",
    "    # Possible to set up own s3 bucket artifact_location\n",
    "    experiment_id = mlflow.create_experiment(name=PROJECT_NAME)\n",
    "print(f'Active experiment_id: {experiment_id}')"
   ]
  },
  {
   "cell_type": "code",
   "execution_count": 18,
   "metadata": {},
   "outputs": [
    {
     "name": "stderr",
     "output_type": "stream",
     "text": [
      "D:\\Soft\\Anaconda\\envs\\aiprocess\\lib\\site-packages\\tensorflow\\python\\framework\\tensor_util.py:523: DeprecationWarning: tostring() is deprecated. Use tobytes() instead.\n",
      "  tensor_proto.tensor_content = nparray.tostring()\n"
     ]
    },
    {
     "name": "stdout",
     "output_type": "stream",
     "text": [
      "2/2 [==============================] - ETA: 0s - loss: 0.6950 - accuracy: 0.4400WARNING:tensorflow:Method (on_train_batch_end) is slow compared to the batch update (0.599160). Check your callbacks.\n",
      "2/2 [==============================] - 35s 17s/step - loss: 0.6950 - accuracy: 0.4400 - val_loss: 0.6930 - val_accuracy: 0.5004\n"
     ]
    },
    {
     "data": {
      "image/png": "[encoded data removed]",
      "text/plain": [
       "<Figure size 576x576 with 1 Axes>"
      ]
     },
     "metadata": {
      "needs_background": "light"
     },
     "output_type": "display_data"
    },
    {
     "name": "stdout",
     "output_type": "stream",
     "text": [
      "Experiment info: <RunInfo: artifact_uri='s3://mlflow/artefacts/3/4447ee2cc47548fda081420ee208af71/artifacts', end_time=None, experiment_id='3', lifecycle_stage='active', run_id='4447ee2cc47548fda081420ee208af71', run_uuid='4447ee2cc47548fda081420ee208af71', start_time=1595715003729, status='RUNNING', user_id='Ihar_Nestsiarenia'>\n"
     ]
    },
    {
     "data": {
      "text/plain": [
       "<Figure size 576x576 with 0 Axes>"
      ]
     },
     "metadata": {},
     "output_type": "display_data"
    }
   ],
   "source": [
    "with mlflow.start_run(experiment_id=experiment_id):\n",
    "    \n",
    "    # Log data hash (key-value pair)\n",
    "    mlflow.log_param(\"train_md5\", TRAIN_MD5)\n",
    "\n",
    "    tf_model = create_model(max_features=MAX_FEATURES, maxlen=MAXLEN)\n",
    "    tf_model.compile(\"adam\", \"binary_crossentropy\", metrics=[\"accuracy\"])\n",
    "    mlflow.tensorflow.autolog()\n",
    "    tf_model.fit(x_train, y_train, batch_size=32, epochs=5, validation_data=(x_val, y_val))\n",
    "    \n",
    "    imdb_model = ImdbModel(prep_pipeline=prep_pipeline, tokenizer=tokenizer, maxlen=MAXLEN, threshold=0.5)\n",
    "    \n",
    "    # Log a metric; metrics can be updated throughout the run\n",
    "    # mlflow.log_metric(\"foo\", 3, step=1)\n",
    "    \n",
    "    # Store binary model\n",
    "    imdb_model_path = 'imdb_model'\n",
    "    log_model(artifact_path=imdb_model_path, \n",
    "              python_model=imdb_model,\n",
    "              tf_model=tf_model)\n",
    "    \n",
    "    # Test model\n",
    "    loaded_model = mlflow.pyfunc.load_model(f'{mlflow.active_run().info.artifact_uri}/{imdb_model_path}')\n",
    "    y_val_pred = loaded_model.predict(pd.DataFrame(x_val_text))\n",
    "    \n",
    "    # Log confusion matrix \n",
    "    import matplotlib.pyplot as plt\n",
    "    plt.rcParams[\"figure.figsize\"]=8,8\n",
    "    \n",
    "    plot_confusion_matrix( y_true=y_val, y_pred=y_val_pred, labels=['pos', 'neg'])\n",
    "    plt.savefig('confusion_matrix.png')\n",
    "    mlflow.log_artifact('confusion_matrix.png')\n",
    "    \n",
    "    # Show experiment metadata\n",
    "    experiment = mlflow.get_experiment(experiment_id)\n",
    "    print(f'Experiment info: {mlflow.active_run().info}')"
   ]
  },
  {
   "cell_type": "markdown",
   "metadata": {},
   "source": [
    "## Tensorboard (Optional)\n",
    "\n",
    "Run tensorboard instance \n",
    "\n",
    "Example:\n",
    "\n",
    "``` \n",
    "tensorboard --logdir s3://mlflow/artefacts/0/70251c20a0a74b63af9cddcefe7d5313/artifacts/tensorboard_logs\n",
    "```\n",
    "\n",
    "And go to: \n",
    "\n",
    "http://localhost:6006/ "
   ]
  },
  {
   "cell_type": "code",
   "execution_count": 23,
   "metadata": {},
   "outputs": [
    {
     "name": "stdout",
     "output_type": "stream",
     "text": [
      "No known TensorBoard instances running.\n"
     ]
    }
   ],
   "source": [
    "from tensorboard import notebook\n",
    "# View open TensorBoard instances\n",
    "notebook.list()"
   ]
  },
  {
   "cell_type": "code",
   "execution_count": 19,
   "metadata": {},
   "outputs": [],
   "source": [
    "# notebook.display(port=6006, height=1000)"
   ]
  },
  {
   "cell_type": "code",
   "execution_count": null,
   "metadata": {},
   "outputs": [],
   "source": []
  }
 ],
 "metadata": {
  "kernelspec": {
   "display_name": "Python 3",
   "language": "python",
   "name": "python3"
  },
  "language_info": {
   "codemirror_mode": {
    "name": "ipython",
    "version": 3
   },
   "file_extension": ".py",
   "mimetype": "text/x-python",
   "name": "python",
   "nbconvert_exporter": "python",
   "pygments_lexer": "ipython3",
   "version": "3.7.6"
  }
 },
 "nbformat": 4,
 "nbformat_minor": 4
}
